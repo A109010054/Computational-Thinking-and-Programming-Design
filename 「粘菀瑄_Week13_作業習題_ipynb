{
  "nbformat": 4,
  "nbformat_minor": 0,
  "metadata": {
    "kernelspec": {
      "display_name": "Python 3",
      "language": "python",
      "name": "python3"
    },
    "language_info": {
      "codemirror_mode": {
        "name": "ipython",
        "version": 3
      },
      "file_extension": ".py",
      "mimetype": "text/x-python",
      "name": "python",
      "nbconvert_exporter": "python",
      "pygments_lexer": "ipython3",
      "version": "3.8.5"
    },
    "colab": {
      "name": "「田弘華 - Week13 - 作業習題.ipynb」的副本",
      "provenance": [],
      "include_colab_link": true
    }
  },
  "cells": [
    {
      "cell_type": "markdown",
      "metadata": {
        "id": "view-in-github",
        "colab_type": "text"
      },
      "source": [
        "<a href=\"https://colab.research.google.com/github/A109010054/Computational-Thinking-and-Programming-Design/blob/main/%E3%80%8C%E7%B2%98%E8%8F%80%E7%91%84_Week13_%E4%BD%9C%E6%A5%AD%E7%BF%92%E9%A1%8C_ipynb\" target=\"_parent\"><img src=\"https://colab.research.google.com/assets/colab-badge.svg\" alt=\"Open In Colab\"/></a>"
      ]
    },
    {
      "cell_type": "markdown",
      "metadata": {
        "id": "0SYDTZkX21Kp"
      },
      "source": [
        "**隨堂練習1： BMI 計算**\n",
        "\n",
        "請寫一個程式讓使用者輸入身高與體重，顯示BMI 值與肥胖程度。 BMI 等於體重（KG）除以身高（M）的平方，而BMI 與肥胖分類標準如下：\n",
        "\n",
        "若BMI 值小於18，則顯示「體重過輕」，否則若BMI 值小於24，則顯示「體重正常」，若BMI 值小於27，則顯示「體重過重」，否則顯示「體重肥胖」。"
      ]
    },
    {
      "cell_type": "code",
      "metadata": {
        "id": "TsrTNMQi21Kq",
        "colab": {
          "base_uri": "https://localhost:8080/"
        },
        "outputId": "8978357d-9af2-415c-f956-ec59eeb404c7"
      },
      "source": [
        "w=float(input('請輸入體重(KG)?'))\n",
        "h=float(input('請輸入身高(M)?'))\n",
        "bmi=w/(h*h)\n",
        "print('bmi為',bmi)\n",
        "if bmi<18:\n",
        "  print('體重過輕')\n",
        "elif bmi<24:\n",
        "  print('體重正常')\n",
        "elif bmi<27:\n",
        "  print('體重過重')\n",
        "else:\n",
        "  print('體重肥胖')"
      ],
      "execution_count": 5,
      "outputs": [
        {
          "output_type": "stream",
          "text": [
            "請輸入體重(KG)?70\n",
            "請輸入身高(M)?160\n",
            "bmi為 0.002734375\n",
            "體重過輕\n"
          ],
          "name": "stdout"
        }
      ]
    },
    {
      "cell_type": "markdown",
      "metadata": {
        "id": "KkTIq67r21Kq"
      },
      "source": [
        "**隨堂練習2： 三一律(單向選擇、雙向與巢狀選擇、多向選擇)**\n",
        "\n",
        "請輸入一個數，然後判斷這個數是正數、是負數或者是零。"
      ]
    },
    {
      "cell_type": "code",
      "metadata": {
        "id": "bVQCf9R221Kq",
        "colab": {
          "base_uri": "https://localhost:8080/"
        },
        "outputId": "b387aaa0-0217-4ba6-99ba-0e1ca8b77dff"
      },
      "source": [
        "num=int(input(\"pick a number:\"))\n",
        "if num>0:\n",
        "  print(\"your number is postive\")\n",
        "if num<0:\n",
        "  print(\"your number is negative\")\n",
        "if num==0:\n",
        "  print(\"your number is zero\")"
      ],
      "execution_count": 6,
      "outputs": [
        {
          "output_type": "stream",
          "text": [
            "pick a number:9\n",
            "your number is postive\n"
          ],
          "name": "stdout"
        }
      ]
    },
    {
      "cell_type": "markdown",
      "metadata": {
        "id": "ejD7kf6821Kq"
      },
      "source": [
        "**練習5   體溫與發燒**\n",
        "\n",
        "設計程式根據體溫判斷是否發燒，由使用者輸入體溫，程式判斷是否發燒，假設體溫小於36度，顯示「體溫過低」，體溫大於等於36度小於38度，顯示「體溫正常」，否則若體溫大於等於38度小於39度，顯示「體溫有點燒」，否則體溫大於等於39度，顯示「體溫很燒」。\n",
        "\n",
        "輸入體溫「36.5」，輸出為「體溫正常」。\n",
        "\n",
        "～程式執行結果如下。\n",
        "\n",
        "請輸入體溫？36.5\n",
        "\n",
        "體溫正常"
      ]
    },
    {
      "cell_type": "code",
      "metadata": {
        "id": "M6EWPl8y21Kr",
        "colab": {
          "base_uri": "https://localhost:8080/"
        },
        "outputId": "77e8d60f-58d9-483e-a8de-ec02c234d75f"
      },
      "source": [
        "temperature=int(input(\"輸入你的體溫\"))\n",
        "if temperature<36:\n",
        "  print(\"體溫過低\")\n",
        "elif 36<=temperature<38:\n",
        "  print(\"體溫正常\")\n",
        "elif 38<=temperature<39:\n",
        "  print(\"體溫有點燒\")\n",
        "elif temperature>39:\n",
        "  print(\"體溫很燒\")\n"
      ],
      "execution_count": 11,
      "outputs": [
        {
          "output_type": "stream",
          "text": [
            "輸入你的體溫36\n",
            "體溫正常\n"
          ],
          "name": "stdout"
        }
      ]
    },
    {
      "cell_type": "markdown",
      "metadata": {
        "id": "z8FgHqNR21Kr"
      },
      "source": [
        "**練習6  閏年判斷**\n",
        "\n",
        "設計程式允許輸入西元幾年，請求出該年是否是閏年，閏年表示該年多一天，若為4的倍數稱做閏年，但若為100的倍數就不為閏年，且若為400倍數又是閏年。(四年一潤、百年不潤、四百年再潤)\n",
        "\n",
        "輸入年份「2012」，輸出為「2012是閏年」。\n",
        "\n",
        "～程式執行結果如下。\n",
        "\n",
        "請輸入年份？2012\n",
        "\n",
        "2012 是閏年"
      ]
    },
    {
      "cell_type": "code",
      "metadata": {
        "id": "XbgcKRZ_21Kr",
        "colab": {
          "base_uri": "https://localhost:8080/"
        },
        "outputId": "f2015f50-86c4-4289-9bd1-1c9333a402c3"
      },
      "source": [
        "year=int(input('請輸入年份'))\n",
        "if ((year%400)==0):\n",
        "  print(year,\"是閏年\")\n",
        "elif ((year%100)==0):\n",
        "  print(year,\"不是閏年\")\n",
        "elif ((year%4)==0):\n",
        "  print(year,\"是閏年\")\n",
        "else:\n",
        "  print(year,\"不是閏年\")\n",
        "  "
      ],
      "execution_count": 15,
      "outputs": [
        {
          "output_type": "stream",
          "text": [
            "請輸入年份2020\n",
            "2020 是閏年\n"
          ],
          "name": "stdout"
        }
      ]
    },
    {
      "cell_type": "markdown",
      "metadata": {
        "id": "tGbiHJZp21Kr"
      },
      "source": [
        "**練習12：計程車計費**\n",
        "\n",
        "某城市計程車計費3公里以內6元，超過3公里不足10公里、每公里1.8元，超過10公里則超過部分加收50%。此外停車等候每3分鐘收1元，請用Python寫出車費是多少。"
      ]
    },
    {
      "cell_type": "code",
      "metadata": {
        "id": "gotylwMk21Ks",
        "colab": {
          "base_uri": "https://localhost:8080/"
        },
        "outputId": "d9f9f291-ca43-4c78-a7cb-37b0c8b849fe"
      },
      "source": [
        "km = float(input('請輸入公里數：'))\n",
        "if km <= 3:\n",
        "  print('您需要支付6元車費')\n",
        "if km >3 and km <= 10:\n",
        "  cost = 6 + (km - 2) * 1.8\n",
        "  print('您需要支付 %s'%cost,'元車費')\n",
        "if km > 10:\n",
        "  cost = 6 +(10 - 2) * 1.8 + (km -12)*1.5\n",
        "  print('您需要支付%s'%cost,'元車費')"
      ],
      "execution_count": 25,
      "outputs": [
        {
          "output_type": "stream",
          "text": [
            "请输入公里数：20\n",
            "您需要支付32.4 元車費\n"
          ],
          "name": "stdout"
        }
      ]
    },
    {
      "cell_type": "code",
      "metadata": {
        "id": "DOfEFjfP21Ks"
      },
      "source": [
        ""
      ],
      "execution_count": null,
      "outputs": []
    }
  ]
}