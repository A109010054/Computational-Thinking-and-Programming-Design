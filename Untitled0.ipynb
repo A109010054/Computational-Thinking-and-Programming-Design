{
  "nbformat": 4,
  "nbformat_minor": 0,
  "metadata": {
    "colab": {
      "name": "Untitled0.ipynb",
      "provenance": [],
      "authorship_tag": "ABX9TyN0z3WLoEyLd2zxYR7d5/cz",
      "include_colab_link": true
    },
    "kernelspec": {
      "name": "python3",
      "display_name": "Python 3"
    }
  },
  "cells": [
    {
      "cell_type": "markdown",
      "metadata": {
        "id": "view-in-github",
        "colab_type": "text"
      },
      "source": [
        "<a href=\"https://colab.research.google.com/github/A109010054/Computational-Thinking-and-Programming-Design/blob/main/Untitled0.ipynb\" target=\"_parent\"><img src=\"https://colab.research.google.com/assets/colab-badge.svg\" alt=\"Open In Colab\"/></a>"
      ]
    },
    {
      "cell_type": "code",
      "metadata": {
        "id": "D3uvKaK0MtJ3"
      },
      "source": [
        ""
      ],
      "execution_count": null,
      "outputs": []
    },
    {
      "cell_type": "markdown",
      "metadata": {
        "id": "8g-4l685NAVz"
      },
      "source": [
        "#隨堂練習"
      ]
    },
    {
      "cell_type": "markdown",
      "metadata": {
        "id": "EYQtLM2JOMwK"
      },
      "source": [
        "認識電腦"
      ]
    },
    {
      "cell_type": "code",
      "metadata": {
        "id": "BbPdOJDkNMC5"
      },
      "source": [
        ""
      ],
      "execution_count": null,
      "outputs": []
    },
    {
      "cell_type": "markdown",
      "metadata": {
        "id": "rUsrUKeqNNwh"
      },
      "source": [
        "#課後作業"
      ]
    },
    {
      "cell_type": "code",
      "metadata": {
        "id": "6dBSlLEFNQxh"
      },
      "source": [
        ""
      ],
      "execution_count": null,
      "outputs": []
    },
    {
      "cell_type": "markdown",
      "metadata": {
        "id": "2W2VmLN_Oejq"
      },
      "source": [
        "課後練習則為從一則新聞報導，提出你對新聞系學生為什麼要學「運算思維與程式設計」的見解。（告訴我新聞連結，以及你的觀點即可。）"
      ]
    },
    {
      "cell_type": "markdown",
      "metadata": {
        "id": "3fGwTfBtNnTR"
      },
      "source": [
        "https://www.businessweekly.com.tw/business/blog/2053\r\n",
        "\r\n",
        "時代變遷，科技越來越進步，多數人改用「網路」觀看新聞，新聞業數位化並非遙不可及，作為新聞系學生，我認為新聞工作者比工程師更清楚新聞應如何編排，才能使觀眾有更好的閱讀環境。學習程式設計的過程中，我們也能對資訊及資料有更深的理解，因此學習程式設計是必要的。\r\n"
      ]
    },
    {
      "cell_type": "code",
      "metadata": {
        "id": "rl9IEDhXSOBW"
      },
      "source": [
        ""
      ],
      "execution_count": null,
      "outputs": []
    }
  ]
}