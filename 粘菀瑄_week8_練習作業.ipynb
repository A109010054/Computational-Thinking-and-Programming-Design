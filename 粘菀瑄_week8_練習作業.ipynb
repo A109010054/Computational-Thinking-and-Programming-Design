{
  "nbformat": 4,
  "nbformat_minor": 0,
  "metadata": {
    "colab": {
      "name": "粘菀瑄_week8_練習作業.ipynb",
      "provenance": [],
      "authorship_tag": "ABX9TyPZ7uZcmkOgtcbrWtgQ32Vh",
      "include_colab_link": true
    },
    "kernelspec": {
      "name": "python3",
      "display_name": "Python 3"
    },
    "language_info": {
      "name": "python"
    }
  },
  "cells": [
    {
      "cell_type": "markdown",
      "metadata": {
        "id": "view-in-github",
        "colab_type": "text"
      },
      "source": [
        "<a href=\"https://colab.research.google.com/github/A109010054/Computational-Thinking-and-Programming-Design/blob/main/%E7%B2%98%E8%8F%80%E7%91%84_week8_%E7%B7%B4%E7%BF%92%E4%BD%9C%E6%A5%AD.ipynb\" target=\"_parent\"><img src=\"https://colab.research.google.com/assets/colab-badge.svg\" alt=\"Open In Colab\"/></a>"
      ]
    },
    {
      "cell_type": "code",
      "metadata": {
        "colab": {
          "base_uri": "https://localhost:8080/"
        },
        "id": "tOu-V64ffNSb",
        "outputId": "ff678a0e-7657-4d9d-cea1-6186d3f4a7ca"
      },
      "source": [
        "##Total=P1*Q1+P2*Q2+P3*Q3\n",
        "##Input Data\n",
        "cloth=int(input('請輸入上衣數量?'))\n",
        "thousers=int(input('請輸入褲子數量?'))\n",
        "vest=int(input('請輸入背心數量?'))\n",
        "##Process\n",
        "Total=cloth*300+thousers*350+vest*400 \n",
        "##Output\n",
        "print('訂購服裝的總金額為',Total)\n"
      ],
      "execution_count": 12,
      "outputs": [
        {
          "output_type": "stream",
          "text": [
            "請輸入上衣數量?10\n",
            "請輸入褲子數量?8\n",
            "請輸入背心數量?5\n",
            "訂購服裝的總金額為 7800\n"
          ],
          "name": "stdout"
        }
      ]
    },
    {
      "cell_type": "code",
      "metadata": {
        "colab": {
          "base_uri": "https://localhost:8080/"
        },
        "id": "RFyLFRuOhxVF",
        "outputId": "f5294ad9-5da9-4749-d72a-a733f041f447"
      },
      "source": [
        "##Total=200*幾打+20*罐\n",
        "##Input Data\n",
        "cans=int(input('請輸入購買飲料的罐數?'))#數字轉文字\n",
        "##Process\n",
        "Total=(cans//12)*200+(cans%12)*20\n",
        "##Output\n",
        "print('花費',Total)"
      ],
      "execution_count": 22,
      "outputs": [
        {
          "output_type": "stream",
          "text": [
            "請輸入購買飲料的罐數?124\n",
            "花費 2080\n"
          ],
          "name": "stdout"
        }
      ]
    },
    {
      "cell_type": "code",
      "metadata": {
        "colab": {
          "base_uri": "https://localhost:8080/"
        },
        "id": "Ia6HPFxgknft",
        "outputId": "b5ba6475-d60a-47d2-96d3-7880a893673c"
      },
      "source": [
        "##計算三次成績的總和與平均\n",
        "##Input Data\n",
        "first=int(input('請輸入第一次期中考成績?'))\n",
        "second=int(input('請輸入第二次期中考成績?'))\n",
        "third=int(input('請輸入第三次期中考成績?'))\n",
        "##Process\n",
        "sum=first+second+third\n",
        "average=sum/3\n",
        "##Output\n",
        "print('總分為',sum,'平均為',average)"
      ],
      "execution_count": 23,
      "outputs": [
        {
          "output_type": "stream",
          "text": [
            "請輸入第一次期中考成績?66\n",
            "請輸入第二次期中考成績?88\n",
            "請輸入第三次期中考成績?90\n",
            "總分為 244 平均為 81.33333333333333\n"
          ],
          "name": "stdout"
        }
      ]
    },
    {
      "cell_type": "code",
      "metadata": {
        "colab": {
          "base_uri": "https://localhost:8080/"
        },
        "id": "6jAr2Ek_mpMe",
        "outputId": "371d70f0-49c2-487d-f266-26de793d3659"
      },
      "source": [
        "player_name=(input('請輸入球員姓名:'))\n",
        "player_height=(input('請輸入球員身高(cm):'))\n",
        "player_weight=(input('請輸入球員體重(kg):'))\n",
        "\n",
        "player_height=float(player_height)\n",
        "player_weight=float(player_weight)\n",
        "player_bmi=player_weight/(player_height*0.01)**2\n",
        "\n",
        "print(\"{}的身高質量指數為:{:.2f}\".format(player_name,player_bmi))\n",
        "print(player_name,'的身高質量指數為',player_bmi)"
      ],
      "execution_count": 25,
      "outputs": [
        {
          "output_type": "stream",
          "text": [
            "請輸入球員姓名:hami\n",
            "請輸入球員身高(cm):177\n",
            "請輸入球員體重(kg):62\n",
            "hami的身高質量指數為:19.79\n",
            "hami 的身高質量指數為 19.789970953429727\n"
          ],
          "name": "stdout"
        }
      ]
    },
    {
      "cell_type": "code",
      "metadata": {
        "id": "_5Hupn0Ioinm"
      },
      "source": [
        ""
      ],
      "execution_count": null,
      "outputs": []
    }
  ]
}